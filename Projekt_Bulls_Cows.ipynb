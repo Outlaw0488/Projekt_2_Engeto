{
  "nbformat": 4,
  "nbformat_minor": 0,
  "metadata": {
    "colab": {
      "name": "Projekt_Bulls_Cows.ipynb",
      "provenance": [],
      "collapsed_sections": [],
      "authorship_tag": "ABX9TyP6PuytqOOUZj3eJ+8yrp02",
      "include_colab_link": true
    },
    "kernelspec": {
      "name": "python3",
      "display_name": "Python 3"
    },
    "language_info": {
      "name": "python"
    }
  },
  "cells": [
    {
      "cell_type": "markdown",
      "metadata": {
        "id": "view-in-github",
        "colab_type": "text"
      },
      "source": [
        "<a href=\"https://colab.research.google.com/github/Outlaw0488/Projekt_2_Engeto/blob/main/Projekt_Bulls_Cows.ipynb\" target=\"_parent\"><img src=\"https://colab.research.google.com/assets/colab-badge.svg\" alt=\"Open In Colab\"/></a>"
      ]
    },
    {
      "cell_type": "code",
      "metadata": {
        "id": "w8lN7iuUXnBs"
      },
      "source": [
        "import random\n",
        "import time\n",
        "\n",
        "# Program pozdraví užitele a vypíše úvodní text\n",
        "print(\"Hi there!\")\n",
        "ODDELOVAC = 50*\"-\"\n",
        "print(ODDELOVAC)\n",
        "print(\"I've generated a random 4 digit number for you.\\nLet's play a bulls and cows game.\")\n",
        "print(ODDELOVAC)\n",
        "\n",
        "# Program dále vytvoří tajné 4místné číslo (číslice musí být unikátní a nesmí začínat 0)\n",
        "\n",
        "hadany_list = [str(random.randint(1,9))]\n",
        "while len(hadany_list) !=4:\n",
        "  r=str(random.randint(0,9)) # potřeba udělat 2x kvůli tomu, aby nezačalo 0, ale dále se objevovala 0 mezi číslicemi\n",
        "  if r not in hadany_list: hadany_list.append(r)\n",
        "#hadane_cislo = str(random.randint(1000,9999)) # nefungovalo kvůli opakovaném číslícím, např. 5588\n",
        "hadany_enum = list(enumerate(hadany_list))\n",
        "hadane_cislo = \"\".join(hadany_list)\n",
        "\n",
        "\n",
        "#Hráč hádá číslo. Program jej upozorní, pokud zadá číslo kratší nebo delší než 4 čísla, pokud bude obsahovat duplicity, začínat nulou, příp. obsahovat nečíselné znaky\n",
        "pocet_bulls = 0\n",
        "pocet_cows = 0\n",
        "pocet_pokusu = 0\n",
        "start_time = time.time()\n",
        "\n",
        "while True:\n",
        "  tip = input(\"Enter a 4-digit number with no duplicit numbers: \") # pozor je to string\n",
        "  if not (len(set(tip)) == 4 and tip.isnumeric() and tip[0] != \"0\"):\n",
        "    print(\"Wrong number - duplicity, non-number or starts with 0. Guess again. \")\n",
        "    print(ODDELOVAC)\n",
        "    continue\n",
        "  elif hadane_cislo != tip:\n",
        "    pocet_pokusu += 1\n",
        "    # Program vyhodnotí tip uživatele\n",
        "    for i, c in list(enumerate(tip)):\n",
        "      if list(enumerate(tip))[i][1] == hadany_enum[i][1]:\n",
        "        pocet_bulls += 1    # počítání počtu bulls, tedy tuplů, které jsou schodné dle indexu\n",
        "          \n",
        "      elif c in hadane_cislo:\n",
        "        pocet_cows +=1  # pocitani poctu cows, stačí aby cislo bylo v danem stringu\n",
        "      \n",
        "    # vypsání počtu a na konci vynulování pro další tip\n",
        "    print(pocet_bulls, \"bull\", end=\", \") if pocet_bulls == 1 else print(pocet_bulls, \"bulls\", end=\", \") \n",
        "    print(pocet_cows, \"cow\", end=\", \") if pocet_bulls == 1 else print(pocet_cows, \"cows\", end=\", \")\n",
        "    print(pocet_pokusu, \"guess\", end=\"\\n\") if pocet_pokusu == 1 else print(pocet_pokusu, \"guesses\", end=\"\\n\")\n",
        "    print(ODDELOVAC)\n",
        "    pocet_bulls = 0\n",
        "    pocet_cows = 0\n",
        "  else:\n",
        "    print(ODDELOVAC)\n",
        "    end_time = time.time()\n",
        "    play_time = end_time - start_time\n",
        "    print(\"Correct, you've guessed the right number on\", pocet_pokusu, \"guess\", end=\"\\n\") if pocet_pokusu == 1 else print(\"Correct, you've guessed the right number in\", pocet_pokusu, \"guesses\", end=\"\\n\")\n",
        "    print(f\"You were playing {time.localtime(play_time).tm_hour} hours, {time.localtime(play_time).tm_min} minutes and {time.localtime(play_time).tm_sec} seconds\")\n",
        "    break"
      ],
      "execution_count": null,
      "outputs": []
    }
  ]
}